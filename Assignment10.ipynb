{
  "cells": [
    {
      "cell_type": "markdown",
      "metadata": {
        "id": "view-in-github",
        "colab_type": "text"
      },
      "source": [
        "<a href=\"https://colab.research.google.com/github/hardik-kumar-10/UCS420/blob/main/Assignment10.ipynb\" target=\"_parent\"><img src=\"https://colab.research.google.com/assets/colab-badge.svg\" alt=\"Open In Colab\"/></a>"
      ]
    },
    {
      "cell_type": "code",
      "execution_count": null,
      "id": "a9ef39b1-1fb0-4290-b73b-f9eeb064dae9",
      "metadata": {
        "id": "a9ef39b1-1fb0-4290-b73b-f9eeb064dae9"
      },
      "outputs": [],
      "source": [
        "# Required imports\n",
        "import re\n",
        "import nltk\n",
        "import string\n",
        "import numpy as np\n",
        "import pandas as pd\n",
        "import matplotlib.pyplot as plt\n",
        "from nltk.corpus import stopwords\n",
        "from nltk.tokenize import word_tokenize, sent_tokenize\n",
        "from nltk.stem import PorterStemmer, WordNetLemmatizer\n",
        "from sklearn.feature_extraction.text import CountVectorizer, TfidfVectorizer\n",
        "from sklearn.metrics.pairwise import cosine_similarity\n",
        "from nltk.probability import FreqDist\n",
        "from wordcloud import WordCloud\n",
        "from textblob import TextBlob\n",
        "\n",
        "nltk.download('punkt')\n",
        "nltk.download('stopwords')\n",
        "nltk.download('wordnet')\n",
        "nltk.download('omw-1.4')\n"
      ]
    },
    {
      "cell_type": "code",
      "execution_count": null,
      "id": "fe5a265f-5c28-4608-a468-85781db6773d",
      "metadata": {
        "id": "fe5a265f-5c28-4608-a468-85781db6773d"
      },
      "outputs": [],
      "source": [
        "# Original Paragraph\n",
        "text = \"\"\"Technology fascinates me the most. It continuously evolves and shapes the way we live.\n",
        "From artificial intelligence to quantum computing, the possibilities are endless.\n",
        "It enhances communication, automates tasks, and makes life easier.\n",
        "New innovations inspire me to learn more every day.\"\"\"\n",
        "\n",
        "# 1. Lowercase and remove punctuation\n",
        "text_clean = re.sub(r'[^\\w\\s]', '', text.lower())\n",
        "\n",
        "# 2. Tokenize into sentences and words\n",
        "sent_tokens = sent_tokenize(text_clean)\n",
        "word_tokens = word_tokenize(text_clean)\n",
        "\n",
        "# 3. Compare split() and word_tokenize()\n",
        "split_words = text_clean.split()\n",
        "print(\"Using split():\", split_words)\n",
        "print(\"Using word_tokenize():\", word_tokens)\n",
        "\n",
        "# 4. Remove stopwords\n",
        "stop_words = set(stopwords.words('english'))\n",
        "filtered_words = [word for word in word_tokens if word not in stop_words]\n",
        "\n",
        "# 5. Word frequency distribution\n",
        "fdist = FreqDist(filtered_words)\n",
        "fdist.plot(10, title='Word Frequency (Excluding Stopwords)')\n"
      ]
    },
    {
      "cell_type": "code",
      "execution_count": null,
      "id": "7818da1e-1447-4cac-b245-04f6f01aeadf",
      "metadata": {
        "id": "7818da1e-1447-4cac-b245-04f6f01aeadf"
      },
      "outputs": [],
      "source": [
        "# 1. Extract alphabetic words\n",
        "alpha_words = re.findall(r'\\b[a-zA-Z]+\\b', text_clean)\n",
        "\n",
        "# 2. Remove stopwords\n",
        "filtered_alpha = [word for word in alpha_words if word not in stop_words]\n",
        "\n",
        "# 3. Stemming\n",
        "stemmer = PorterStemmer()\n",
        "stemmed = [stemmer.stem(word) for word in filtered_alpha]\n",
        "\n",
        "# 4. Lemmatization\n",
        "lemmatizer = WordNetLemmatizer()\n",
        "lemmatized = [lemmatizer.lemmatize(word) for word in filtered_alpha]\n",
        "\n",
        "# 5. Compare\n",
        "print(\"Stemmed:\", stemmed)\n",
        "print(\"Lemmatized:\", lemmatized)\n",
        "print(\"Stemming reduces to base/root form, but can be less readable.\\nLemmatization uses vocabulary and gives more meaningful forms.\")\n"
      ]
    },
    {
      "cell_type": "code",
      "execution_count": null,
      "id": "bac03b2f-8318-4e11-a04e-3cf4ee54c699",
      "metadata": {
        "id": "bac03b2f-8318-4e11-a04e-3cf4ee54c699"
      },
      "outputs": [],
      "source": [
        "texts = [\n",
        "    \"This laptop has amazing performance and battery life.\",\n",
        "    \"The camera quality of this phone is stunning.\",\n",
        "    \"Customer service was very disappointing and slow.\"\n",
        "]\n",
        "\n",
        "# 1. Bag of Words\n",
        "cv = CountVectorizer()\n",
        "bow = cv.fit_transform(texts)\n",
        "print(\"BoW Feature Names:\", cv.get_feature_names_out())\n",
        "print(bow.toarray())\n",
        "\n",
        "# 2. TF-IDF\n",
        "tfidf = TfidfVectorizer()\n",
        "tfidf_matrix = tfidf.fit_transform(texts)\n",
        "print(\"TF-IDF Feature Names:\", tfidf.get_feature_names_out())\n",
        "\n",
        "# 3. Top keywords per text\n",
        "feature_names = tfidf.get_feature_names_out()\n",
        "for i, row in enumerate(tfidf_matrix.toarray()):\n",
        "    top_indices = row.argsort()[-3:][::-1]\n",
        "    top_words = [(feature_names[idx], row[idx]) for idx in top_indices]\n",
        "    print(f\"Text {i+1} Top Keywords:\", top_words)\n"
      ]
    },
    {
      "cell_type": "code",
      "execution_count": null,
      "id": "4c2d27fe-a60b-4f65-ac9f-9439f39b35e0",
      "metadata": {
        "id": "4c2d27fe-a60b-4f65-ac9f-9439f39b35e0"
      },
      "outputs": [],
      "source": [
        "text1 = \"Artificial Intelligence enables machines to think like humans and automate tasks.\"\n",
        "text2 = \"Blockchain provides a secure way to record and transfer digital assets.\"\n",
        "\n",
        "# Preprocess\n",
        "def preprocess(text):\n",
        "    tokens = word_tokenize(re.sub(r'[^\\w\\s]', '', text.lower()))\n",
        "    return [word for word in tokens if word not in stop_words]\n",
        "\n",
        "tokens1 = set(preprocess(text1))\n",
        "tokens2 = set(preprocess(text2))\n",
        "\n",
        "# a. Jaccard Similarity\n",
        "jaccard_sim = len(tokens1 & tokens2) / len(tokens1 | tokens2)\n",
        "print(\"Jaccard Similarity:\", jaccard_sim)\n",
        "\n",
        "# b. Cosine Similarity\n",
        "tfidf = TfidfVectorizer()\n",
        "vectors = tfidf.fit_transform([text1, text2])\n",
        "cos_sim = cosine_similarity(vectors[0:1], vectors[1:2])[0][0]\n",
        "print(\"Cosine Similarity:\", cos_sim)\n",
        "\n",
        "# c. Analysis\n",
        "print(\"Jaccard is simple, shows overlap ratio. Cosine considers term frequency and importance, often more insightful.\")\n"
      ]
    },
    {
      "cell_type": "code",
      "execution_count": null,
      "id": "940fc645-fd4c-47fa-b30a-56130668da9e",
      "metadata": {
        "id": "940fc645-fd4c-47fa-b30a-56130668da9e"
      },
      "outputs": [],
      "source": [
        "reviews = [\n",
        "    \"This product exceeded my expectations! Loved it.\",\n",
        "    \"It's okay, not great but not bad either.\",\n",
        "    \"Terrible experience. Will not buy again.\"\n",
        "]\n",
        "\n",
        "for review in reviews:\n",
        "    blob = TextBlob(review)\n",
        "    print(f\"Review: {review}\")\n",
        "    print(f\"Polarity: {blob.sentiment.polarity}, Subjectivity: {blob.sentiment.subjectivity}\")\n",
        "    sentiment = \"Positive\" if blob.sentiment.polarity > 0 else \"Negative\" if blob.sentiment.polarity < 0 else \"Neutral\"\n",
        "    print(f\"Sentiment: {sentiment}\\n\")\n",
        "\n",
        "# Word cloud for positive reviews\n",
        "positive_reviews = ' '.join([r for r in reviews if TextBlob(r).sentiment.polarity > 0])\n",
        "wordcloud = WordCloud(width=600, height=400, background_color='white').generate(positive_reviews)\n",
        "\n",
        "plt.figure(figsize=(8, 5))\n",
        "plt.imshow(wordcloud, interpolation='bilinear')\n",
        "plt.axis('off')\n",
        "plt.title('Word Cloud of Positive Reviews')\n",
        "plt.show()\n"
      ]
    },
    {
      "cell_type": "code",
      "execution_count": null,
      "id": "3079e85c-79bc-4817-bb20-3e549a7c16a2",
      "metadata": {
        "id": "3079e85c-79bc-4817-bb20-3e549a7c16a2"
      },
      "outputs": [],
      "source": []
    }
  ],
  "metadata": {
    "kernelspec": {
      "display_name": "Python 3 (ipykernel)",
      "language": "python",
      "name": "python3"
    },
    "language_info": {
      "codemirror_mode": {
        "name": "ipython",
        "version": 3
      },
      "file_extension": ".py",
      "mimetype": "text/x-python",
      "name": "python",
      "nbconvert_exporter": "python",
      "pygments_lexer": "ipython3",
      "version": "3.12.7"
    },
    "colab": {
      "provenance": [],
      "include_colab_link": true
    }
  },
  "nbformat": 4,
  "nbformat_minor": 5
}