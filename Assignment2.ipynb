{
  "nbformat": 4,
  "nbformat_minor": 0,
  "metadata": {
    "colab": {
      "provenance": [],
      "authorship_tag": "ABX9TyNV29nPhKG4SqavafEff4Lm",
      "include_colab_link": true
    },
    "kernelspec": {
      "name": "python3",
      "display_name": "Python 3"
    },
    "language_info": {
      "name": "python"
    }
  },
  "cells": [
    {
      "cell_type": "markdown",
      "metadata": {
        "id": "view-in-github",
        "colab_type": "text"
      },
      "source": [
        "<a href=\"https://colab.research.google.com/github/hardik-kumar-10/UCS712/blob/main/Assignment2.ipynb\" target=\"_parent\"><img src=\"https://colab.research.google.com/assets/colab-badge.svg\" alt=\"Open In Colab\"/></a>"
      ]
    },
    {
      "cell_type": "code",
      "execution_count": 2,
      "metadata": {
        "colab": {
          "base_uri": "https://localhost:8080/"
        },
        "id": "NSr3k4E-Tq79",
        "outputId": "c5fe5d4a-89d5-4238-fc46-e3ac653a33cb"
      },
      "outputs": [
        {
          "output_type": "stream",
          "name": "stdout",
          "text": [
            "[10, 20, 30, 40, 50, 60, 70, 80, 200, 300]\n"
          ]
        }
      ],
      "source": [
        "L=[10,20,30,40,50,60,70,80]\n",
        "L.append(200)\n",
        "L.append(300)\n",
        "print(L)"
      ]
    },
    {
      "cell_type": "code",
      "source": [
        "L.remove(10)\n",
        "L.remove(30)\n",
        "print(L)"
      ],
      "metadata": {
        "colab": {
          "base_uri": "https://localhost:8080/"
        },
        "id": "P-hO3IibUdzs",
        "outputId": "1da27e1e-1d72-46f7-daff-6966309b9f42"
      },
      "execution_count": 7,
      "outputs": [
        {
          "output_type": "stream",
          "name": "stdout",
          "text": [
            "[20, 40, 50, 60, 70, 80]\n"
          ]
        }
      ]
    },
    {
      "cell_type": "code",
      "source": [
        "L.sort()\n",
        "print(L)"
      ],
      "metadata": {
        "colab": {
          "base_uri": "https://localhost:8080/"
        },
        "id": "5efOAVlXUlxD",
        "outputId": "f54a0732-2d6a-47cf-d18b-7d2562348e4d"
      },
      "execution_count": 8,
      "outputs": [
        {
          "output_type": "stream",
          "name": "stdout",
          "text": [
            "[20, 40, 50, 60, 70, 80]\n"
          ]
        }
      ]
    },
    {
      "cell_type": "code",
      "source": [
        "L.sort(reverse=True)\n",
        "print(L)"
      ],
      "metadata": {
        "colab": {
          "base_uri": "https://localhost:8080/"
        },
        "id": "aeFm91BjVF15",
        "outputId": "58ff7040-1578-45e1-e5ed-2ef6615ac64d"
      },
      "execution_count": 10,
      "outputs": [
        {
          "output_type": "stream",
          "name": "stdout",
          "text": [
            "[80, 70, 60, 50, 40, 20]\n"
          ]
        }
      ]
    },
    {
      "cell_type": "code",
      "source": [
        "T=(45, 89.5, 76, 45.4, 89, 92, 58, 45)\n",
        "MAX=max(T)\n",
        "print(MAX)\n",
        "print(T.index(MAX))"
      ],
      "metadata": {
        "colab": {
          "base_uri": "https://localhost:8080/"
        },
        "id": "vRnKpjV-VkDM",
        "outputId": "961f41c3-b382-458c-c3b5-3053e12e9dfa"
      },
      "execution_count": 15,
      "outputs": [
        {
          "output_type": "stream",
          "name": "stdout",
          "text": [
            "92\n",
            "5\n"
          ]
        }
      ]
    },
    {
      "cell_type": "code",
      "source": [
        "MIN=min(T)\n",
        "print(MIN)\n",
        "print(T.count(MIN))"
      ],
      "metadata": {
        "colab": {
          "base_uri": "https://localhost:8080/"
        },
        "id": "feisWf4xW09Q",
        "outputId": "47f658ac-41e6-4b0a-a896-f896882e2502"
      },
      "execution_count": 16,
      "outputs": [
        {
          "output_type": "stream",
          "name": "stdout",
          "text": [
            "45\n",
            "2\n"
          ]
        }
      ]
    },
    {
      "cell_type": "code",
      "source": [
        "t=T[::-1]\n",
        "print(t)\n",
        "print(list(T))\n"
      ],
      "metadata": {
        "colab": {
          "base_uri": "https://localhost:8080/"
        },
        "id": "HLFHcOupXEoU",
        "outputId": "baec3011-efb1-4294-d4f6-f36dc5275c61"
      },
      "execution_count": 19,
      "outputs": [
        {
          "output_type": "stream",
          "name": "stdout",
          "text": [
            "(45, 58, 92, 89, 45.4, 76, 89.5, 45)\n",
            "[45, 89.5, 76, 45.4, 89, 92, 58, 45]\n"
          ]
        }
      ]
    },
    {
      "cell_type": "code",
      "source": [
        "def searching(data):\n",
        "    value = int(input(\"Enter any number: \"))\n",
        "    if value in data:\n",
        "        return True\n",
        "    else:\n",
        "        return False\n",
        "data=[45, 89.5, 76, 45.4, 89, 92, 58, 45]\n",
        "if searching(data):\n",
        "    print(\"Input is present\")\n",
        "else:\n",
        "    print(\"Not found\")\n"
      ],
      "metadata": {
        "colab": {
          "base_uri": "https://localhost:8080/"
        },
        "id": "Jw3cW8zzX3nu",
        "outputId": "76a77f62-5051-493d-db8b-9c3a500509a0"
      },
      "execution_count": 8,
      "outputs": [
        {
          "output_type": "stream",
          "name": "stdout",
          "text": [
            "Enter any number: 76\n",
            "Input is present\n"
          ]
        }
      ]
    },
    {
      "cell_type": "code",
      "source": [
        "import random as r\n",
        "random_numbers = [r.randint(100, 900) for _ in range(100)]\n",
        "print(random_numbers)\n"
      ],
      "metadata": {
        "colab": {
          "base_uri": "https://localhost:8080/"
        },
        "id": "gE_KBxUnYcCk",
        "outputId": "a59a3a6e-a41c-44d6-c2aa-6294f4b0520b"
      },
      "execution_count": 27,
      "outputs": [
        {
          "output_type": "stream",
          "name": "stdout",
          "text": [
            "[780, 367, 597, 245, 500, 720, 777, 158, 407, 169, 229, 758, 289, 195, 101, 716, 793, 732, 699, 746, 573, 388, 640, 242, 293, 279, 185, 433, 688, 854, 154, 191, 220, 227, 760, 658, 276, 278, 882, 310, 471, 655, 682, 423, 652, 305, 441, 196, 222, 466, 502, 122, 228, 264, 629, 187, 379, 181, 771, 346, 769, 312, 293, 149, 817, 411, 197, 759, 409, 232, 223, 567, 218, 641, 582, 771, 528, 530, 764, 622, 122, 140, 530, 531, 260, 217, 550, 203, 857, 510, 466, 871, 589, 610, 265, 796, 326, 453, 649, 370]\n"
          ]
        }
      ]
    },
    {
      "cell_type": "code",
      "source": [
        "odd_numbers = [num for num in random_numbers if num % 2 != 0]\n",
        "count_odd=len(odd_numbers)\n",
        "print(odd_numbers)\n",
        "print(count_odd)"
      ],
      "metadata": {
        "id": "f-BeJC2BadGd",
        "outputId": "b0e75b55-4fc1-4cbf-abf4-0bf087a42ec6",
        "colab": {
          "base_uri": "https://localhost:8080/"
        }
      },
      "execution_count": 29,
      "outputs": [
        {
          "output_type": "stream",
          "name": "stdout",
          "text": [
            "[367, 597, 245, 777, 407, 169, 229, 289, 195, 101, 793, 699, 573, 293, 279, 185, 433, 191, 227, 471, 655, 423, 305, 441, 629, 187, 379, 181, 771, 769, 293, 149, 817, 411, 197, 759, 409, 223, 567, 641, 771, 531, 217, 203, 857, 871, 589, 265, 453, 649]\n",
            "50\n"
          ]
        }
      ]
    },
    {
      "cell_type": "code",
      "source": [
        "even_numbers = [num for num in random_numbers if num % 2 == 0]\n",
        "count_even=len(even_numbers)\n",
        "print(even_numbers)\n",
        "print(count_even)"
      ],
      "metadata": {
        "id": "tCF6b2eub9w6",
        "outputId": "0ec53af7-51bc-4d8f-bacf-094f220a205b",
        "colab": {
          "base_uri": "https://localhost:8080/"
        }
      },
      "execution_count": 31,
      "outputs": [
        {
          "output_type": "stream",
          "name": "stdout",
          "text": [
            "[780, 500, 720, 158, 758, 716, 732, 746, 388, 640, 242, 688, 854, 154, 220, 760, 658, 276, 278, 882, 310, 682, 652, 196, 222, 466, 502, 122, 228, 264, 346, 312, 232, 218, 582, 528, 530, 764, 622, 122, 140, 530, 260, 550, 510, 466, 610, 796, 326, 370]\n",
            "50\n"
          ]
        }
      ]
    },
    {
      "cell_type": "code",
      "source": [
        "def is_prime(n):\n",
        "  if n<2:\n",
        "    return False\n",
        "  for i in range(2,int(n**0.5)+1):\n",
        "    if n%i==0:\n",
        "      return False\n",
        "    return True\n",
        "\n",
        "prime_numbers=[num for num in random_numbers if is_prime(num)]\n",
        "\n",
        "count_primes=len(prime_numbers)\n",
        "print(prime_numbers)\n",
        "print(count_primes)"
      ],
      "metadata": {
        "id": "LYjYraxqciNb",
        "outputId": "bc3a490e-a0e3-49e1-cd71-f962a23ebeb0",
        "colab": {
          "base_uri": "https://localhost:8080/"
        }
      },
      "execution_count": 33,
      "outputs": [
        {
          "output_type": "stream",
          "name": "stdout",
          "text": [
            "[367, 597, 245, 777, 407, 169, 229, 289, 195, 101, 793, 699, 573, 293, 279, 185, 433, 191, 227, 471, 655, 423, 305, 441, 629, 187, 379, 181, 771, 769, 293, 149, 817, 411, 197, 759, 409, 223, 567, 641, 771, 531, 217, 203, 857, 871, 589, 265, 453, 649]\n",
            "50\n"
          ]
        }
      ]
    },
    {
      "cell_type": "code",
      "source": [
        "A={34,56,78,90}\n",
        "B={74,45,90,23}\n",
        "print(A|B)"
      ],
      "metadata": {
        "id": "MXwSAPNbjwRi",
        "outputId": "f2707a16-8081-48f7-8618-f2c726ec9431",
        "colab": {
          "base_uri": "https://localhost:8080/"
        }
      },
      "execution_count": 9,
      "outputs": [
        {
          "output_type": "stream",
          "name": "stdout",
          "text": [
            "{34, 74, 45, 78, 23, 56, 90}\n"
          ]
        }
      ]
    },
    {
      "cell_type": "code",
      "source": [
        "print(A&B)"
      ],
      "metadata": {
        "id": "z-tfd3iSkIVy",
        "outputId": "f9dcfacd-8898-4770-a110-17b498c64a3d",
        "colab": {
          "base_uri": "https://localhost:8080/"
        }
      },
      "execution_count": 10,
      "outputs": [
        {
          "output_type": "stream",
          "name": "stdout",
          "text": [
            "{90}\n"
          ]
        }
      ]
    },
    {
      "cell_type": "code",
      "source": [
        "print(A-B)"
      ],
      "metadata": {
        "id": "Vj9Av8wIkVms",
        "outputId": "b5e573c6-bebd-400e-e01f-d586377c995f",
        "colab": {
          "base_uri": "https://localhost:8080/"
        }
      },
      "execution_count": 11,
      "outputs": [
        {
          "output_type": "stream",
          "name": "stdout",
          "text": [
            "{56, 34, 78}\n"
          ]
        }
      ]
    },
    {
      "cell_type": "code",
      "source": [
        "is_subset = A.issubset(B)\n",
        "is_superset = B.issuperset(A)\n",
        "\n",
        "print(f\"Is A a subset of B? {is_subset}\")\n",
        "print(f\"Is B a superset of A? {is_superset}\")\n"
      ],
      "metadata": {
        "id": "sd6aoWSTkbYE",
        "outputId": "ae4f2247-1f56-4605-8cf7-37832b514a02",
        "colab": {
          "base_uri": "https://localhost:8080/"
        }
      },
      "execution_count": 13,
      "outputs": [
        {
          "output_type": "stream",
          "name": "stdout",
          "text": [
            "Is A a subset of B? False\n",
            "Is B a superset of A? False\n"
          ]
        }
      ]
    },
    {
      "cell_type": "code",
      "source": [
        "def delete(A):\n",
        "    value = int(input(\"Enter any number: \"))\n",
        "    if value in A:\n",
        "        A.remove(value)\n",
        "        print(A)\n",
        "        return True\n",
        "    else:\n",
        "        return False\n",
        "A={34,56,78,90}\n",
        "if delete(A):\n",
        "    print(\"Input is present\")\n",
        "else:\n",
        "    print(\"Not found\")\n"
      ],
      "metadata": {
        "id": "WX1C35vvlusQ",
        "outputId": "550d79ab-2f31-4e6f-c47f-fa926547e92a",
        "colab": {
          "base_uri": "https://localhost:8080/"
        }
      },
      "execution_count": 16,
      "outputs": [
        {
          "output_type": "stream",
          "name": "stdout",
          "text": [
            "Enter any number: 56\n",
            "{34, 90, 78}\n",
            "Input is present\n"
          ]
        }
      ]
    },
    {
      "cell_type": "code",
      "source": [
        "sample_dict={\n",
        "    \"name\":\"kelly\",\n",
        "    \"age\":25,\n",
        "    \"salary\":8000,\n",
        "    \"city\":\"NEW YORK\"\n",
        "}\n",
        "sample_dict[\"location\"]=sample_dict.pop('city')\n",
        "print(sample_dict)\n",
        "\n"
      ],
      "metadata": {
        "id": "13at5bDrm1P7",
        "outputId": "72ffe8ab-4ec2-479b-f53c-d97a678f3617",
        "colab": {
          "base_uri": "https://localhost:8080/"
        }
      },
      "execution_count": 22,
      "outputs": [
        {
          "output_type": "stream",
          "name": "stdout",
          "text": [
            "{'name': 'kelly', 'age': 25, 'salary': 8000, 'location': 'NEW YORK'}\n"
          ]
        }
      ]
    }
  ]
}