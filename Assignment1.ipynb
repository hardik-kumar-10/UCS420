{
  "nbformat": 4,
  "nbformat_minor": 0,
  "metadata": {
    "colab": {
      "provenance": [],
      "authorship_tag": "ABX9TyPp2++h6CEg660bN2IbH+fD",
      "include_colab_link": true
    },
    "kernelspec": {
      "name": "python3",
      "display_name": "Python 3"
    },
    "language_info": {
      "name": "python"
    }
  },
  "cells": [
    {
      "cell_type": "markdown",
      "metadata": {
        "id": "view-in-github",
        "colab_type": "text"
      },
      "source": [
        "<a href=\"https://colab.research.google.com/github/hardik-kumar-10/UCS712/blob/main/Assignment1.ipynb\" target=\"_parent\"><img src=\"https://colab.research.google.com/assets/colab-badge.svg\" alt=\"Open In Colab\"/></a>"
      ]
    },
    {
      "cell_type": "code",
      "execution_count": 1,
      "metadata": {
        "colab": {
          "base_uri": "https://localhost:8080/"
        },
        "id": "SIewdx6AXUV1",
        "outputId": "39b53335-1b86-49b9-d1b6-eabcb3609210"
      },
      "outputs": [
        {
          "output_type": "stream",
          "name": "stdout",
          "text": [
            "enter your name: hardik kumar\n",
            "hardik kumar\n",
            "hardik kumar\n",
            "hardik kumar\n"
          ]
        }
      ],
      "source": [
        "n=input(\"enter your name: \")\n",
        "for i in range(0,3):\n",
        "  print(n)"
      ]
    },
    {
      "cell_type": "code",
      "source": [
        "a=10\n",
        "b=20\n",
        "c=30\n",
        "d=a+b+c\n",
        "print(\"sum of the three numbers is: \",d)"
      ],
      "metadata": {
        "colab": {
          "base_uri": "https://localhost:8080/"
        },
        "id": "VPtVFGcbmrkj",
        "outputId": "9fcb8e00-e5fd-46f2-c4c6-52248f144eea"
      },
      "execution_count": 2,
      "outputs": [
        {
          "output_type": "stream",
          "name": "stdout",
          "text": [
            "sum of the three numbers is:  60\n"
          ]
        }
      ]
    },
    {
      "cell_type": "code",
      "source": [
        "a=\"Hardik\"\n",
        "b=\"Kumar\"\n",
        "c=\"COPC\"\n",
        "d=a+b+c\n",
        "print(\"strings after concatenation are: \",d)"
      ],
      "metadata": {
        "colab": {
          "base_uri": "https://localhost:8080/"
        },
        "id": "Wvao7kiDnNsX",
        "outputId": "a1690609-03c8-41c8-e20c-341bcccb7471"
      },
      "execution_count": 4,
      "outputs": [
        {
          "output_type": "stream",
          "name": "stdout",
          "text": [
            "strings after concatenation are:  HardikKumarCOPC\n"
          ]
        }
      ]
    },
    {
      "cell_type": "code",
      "source": [
        "n=7\n",
        "i=1\n",
        "for i in range(1,11):\n",
        "  print(n,\" x \",i,\" = \",n*i)"
      ],
      "metadata": {
        "colab": {
          "base_uri": "https://localhost:8080/"
        },
        "id": "70JY67JSnmwj",
        "outputId": "aee0be61-f137-45dc-d64e-f52e420941b2"
      },
      "execution_count": 8,
      "outputs": [
        {
          "output_type": "stream",
          "name": "stdout",
          "text": [
            "7  x  1  =  7\n",
            "7  x  2  =  14\n",
            "7  x  3  =  21\n",
            "7  x  4  =  28\n",
            "7  x  5  =  35\n",
            "7  x  6  =  42\n",
            "7  x  7  =  49\n",
            "7  x  8  =  56\n",
            "7  x  9  =  63\n",
            "7  x  10  =  70\n"
          ]
        }
      ]
    },
    {
      "cell_type": "code",
      "source": [
        "n=9\n",
        "i=1\n",
        "for i in range(1,11):\n",
        "  print(n,\" x \",i,\" = \",n*i)"
      ],
      "metadata": {
        "colab": {
          "base_uri": "https://localhost:8080/"
        },
        "id": "ewwa_bIJoQqj",
        "outputId": "e6732128-1d10-4a11-e90a-917dcd18ae6f"
      },
      "execution_count": 9,
      "outputs": [
        {
          "output_type": "stream",
          "name": "stdout",
          "text": [
            "9  x  1  =  9\n",
            "9  x  2  =  18\n",
            "9  x  3  =  27\n",
            "9  x  4  =  36\n",
            "9  x  5  =  45\n",
            "9  x  6  =  54\n",
            "9  x  7  =  63\n",
            "9  x  8  =  72\n",
            "9  x  9  =  81\n",
            "9  x  10  =  90\n"
          ]
        }
      ]
    },
    {
      "cell_type": "code",
      "source": [
        "n=int(input(\"enter the no of which you want the table\"))\n",
        "i=1\n",
        "for i in range(1,11):\n",
        "  print(n,\" x \",i,\" = \",n*i)"
      ],
      "metadata": {
        "colab": {
          "base_uri": "https://localhost:8080/"
        },
        "id": "_H9F639loURu",
        "outputId": "2f8a0d08-8354-442b-b181-0dc9566388dc"
      },
      "execution_count": 10,
      "outputs": [
        {
          "output_type": "stream",
          "name": "stdout",
          "text": [
            "enter the no of which you want the table23\n",
            "23  x  1  =  23\n",
            "23  x  2  =  46\n",
            "23  x  3  =  69\n",
            "23  x  4  =  92\n",
            "23  x  5  =  115\n",
            "23  x  6  =  138\n",
            "23  x  7  =  161\n",
            "23  x  8  =  184\n",
            "23  x  9  =  207\n",
            "23  x  10  =  230\n"
          ]
        }
      ]
    },
    {
      "cell_type": "code",
      "source": [
        "n=int(input(\"enter the no of which you want the table\"))\n",
        "i=1\n",
        "sum=0\n",
        "for i in range(1,n+1):\n",
        "  sum=sum+i\n",
        "  i=i+1\n",
        "print(\"sum of numbers from 1 to n is: \",sum)"
      ],
      "metadata": {
        "colab": {
          "base_uri": "https://localhost:8080/"
        },
        "id": "3KNfk9T9oe9I",
        "outputId": "c63e4616-0c1d-4be6-fc96-a20af35d30f7"
      },
      "execution_count": 12,
      "outputs": [
        {
          "output_type": "stream",
          "name": "stdout",
          "text": [
            "enter the no of which you want the table10\n",
            "sum of numbers from 1 to n is:  55\n"
          ]
        }
      ]
    },
    {
      "cell_type": "code",
      "source": [
        "a=int(input(\"enter first number: \"))\n",
        "b=int(input(\"enter second number: \"))\n",
        "c=int(input(\"enter third number: \"))\n",
        "maximum=max(a,b,c)\n",
        "print(\"the max number is\",maximum)"
      ],
      "metadata": {
        "colab": {
          "base_uri": "https://localhost:8080/"
        },
        "id": "sOUCibMtpBTW",
        "outputId": "2581c30c-e55d-4547-969a-c6c90ee9f2e4"
      },
      "execution_count": 16,
      "outputs": [
        {
          "output_type": "stream",
          "name": "stdout",
          "text": [
            "enter first number: 2\n",
            "enter second number: 3\n",
            "enter third number: 4\n",
            "the max number is 4\n"
          ]
        }
      ]
    },
    {
      "cell_type": "code",
      "source": [
        "n=int(input(\"enter till where you want the sum: \"))\n",
        "\n",
        "sum=0\n",
        "\n",
        "for i in range(1,n+1):\n",
        "  if i%7==0 and i%9==0:\n",
        "    sum=sum+i\n",
        "\n",
        "print(\"the sum is: \",sum)\n"
      ],
      "metadata": {
        "colab": {
          "base_uri": "https://localhost:8080/"
        },
        "id": "b6Ucgk6yqLOt",
        "outputId": "aeb9fdaa-182c-428e-fbeb-e78ebe088d01"
      },
      "execution_count": 24,
      "outputs": [
        {
          "output_type": "stream",
          "name": "stdout",
          "text": [
            "enter till where you want the sum: 100\n",
            "the sum is:  63\n"
          ]
        }
      ]
    },
    {
      "cell_type": "code",
      "source": [
        "n = int(input(\"Enter the value of n: \"))\n",
        "\n",
        "sum = 0\n",
        "\n",
        "for num in range(2, n + 1):\n",
        "    for i in range(2, num):\n",
        "        if num % i == 0:\n",
        "            break\n",
        "    else:\n",
        "        sum += num\n",
        "print(f\"The sum of all prime numbers from 1 to {n} is: {sum}\")\n"
      ],
      "metadata": {
        "colab": {
          "base_uri": "https://localhost:8080/"
        },
        "id": "pDoL3rC-s2qh",
        "outputId": "3d7f4b8c-5485-4df8-86d5-f4ae0fef8da8"
      },
      "execution_count": 28,
      "outputs": [
        {
          "output_type": "stream",
          "name": "stdout",
          "text": [
            "Enter the value of n: 20\n",
            "The sum of all prime numbers from 1 to 20 is: 77\n"
          ]
        }
      ]
    },
    {
      "cell_type": "code",
      "source": [
        "def addOdd(n):\n",
        "  sum=0\n",
        "  for i in range(1,n+1):\n",
        "    if i%2==0:\n",
        "      continue\n",
        "    sum=sum+i\n",
        "  return sum\n",
        "\n",
        "n=int(input(\"till where you want odd numebrs sum: \"))\n",
        "print(\"sum of \",n,\"odd numbers is \",addOdd(n))\n",
        "\n"
      ],
      "metadata": {
        "colab": {
          "base_uri": "https://localhost:8080/"
        },
        "id": "OVW49toSt-RH",
        "outputId": "e2c25fc4-e008-4703-a890-468f5486eff1"
      },
      "execution_count": 31,
      "outputs": [
        {
          "output_type": "stream",
          "name": "stdout",
          "text": [
            "till where you want odd numebrs sum: 10\n",
            "sum of  10 odd numbers is  25\n"
          ]
        }
      ]
    },
    {
      "cell_type": "code",
      "source": [
        "def Sum_Prime(n):\n",
        "  sum = 0\n",
        "  for num in range(2, n + 1):\n",
        "      for i in range(2, num):\n",
        "          if num % i == 0:\n",
        "              break\n",
        "      else:\n",
        "          sum += num\n",
        "  return sum\n",
        "\n",
        "n = int(input(\"Enter the value of n: \"))\n",
        "print(\"The sum of all prime numbers from 1 to\", n, \"is:\", Sum_Prime(n))\n"
      ],
      "metadata": {
        "colab": {
          "base_uri": "https://localhost:8080/"
        },
        "id": "w44igu3cvgZT",
        "outputId": "0d7bde0b-c230-414d-b46f-e40fe88da8b7"
      },
      "execution_count": 34,
      "outputs": [
        {
          "output_type": "stream",
          "name": "stdout",
          "text": [
            "Enter the value of n: 10\n",
            "The sum of all prime numbers from 1 to 10 is: 17\n"
          ]
        }
      ]
    }
  ]
}